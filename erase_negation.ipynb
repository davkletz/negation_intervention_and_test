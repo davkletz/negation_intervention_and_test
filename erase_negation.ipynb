{
 "cells": [
  {
   "cell_type": "code",
   "execution_count": 1,
   "metadata": {},
   "outputs": [
    {
     "name": "stderr",
     "output_type": "stream",
     "text": [
      "/Users/david/miniconda3/envs/good_conda/lib/python3.9/site-packages/tqdm/auto.py:22: TqdmWarning: IProgress not found. Please update jupyter and ipywidgets. See https://ipywidgets.readthedocs.io/en/stable/user_install.html\n",
      "  from .autonotebook import tqdm as notebook_tqdm\n"
     ]
    }
   ],
   "source": [
    "import sys\n",
    "sys.path.append(\"../src\")\n",
    "from src import debias\n",
    "from joblib import load, dump\n",
    "from sklearn.model_selection import train_test_split\n",
    "import matplotlib.pyplot as plt\n",
    "from sklearn.manifold import TSNE\n",
    "import numpy as np\n",
    "from sklearn.linear_model import SGDClassifier, Perceptron, LogisticRegression, PassiveAggressiveClassifier\n",
    "from joblib import dump\n",
    "import torch\n",
    "\n"
   ]
  },
  {
   "cell_type": "code",
   "execution_count": 2,
   "metadata": {},
   "outputs": [],
   "source": [
    "model_name = roberta-large"
   ]
  },
  {
   "cell_type": "code",
   "execution_count": 3,
   "metadata": {},
   "outputs": [],
   "source": [
    "def tsne(vecs, labels, title=\"\", ind2label = None, words = None, metric = \"l2\"):\n",
    "\n",
    "  tsne = TSNE(n_components=2)#, angle = 0.5, perplexity = 20)\n",
    "  vecs_2d = tsne.fit_transform(vecs)\n",
    "  #label_names = sorted(list(set(labels.tolist())))\n",
    "  label_names = sorted(list(set(labels.tolist())))\n",
    "  num_labels = len(label_names)\n",
    "\n",
    "  names = sorted(set(labels.tolist()))\n",
    "\n",
    "  plt.figure(figsize=(6, 5))\n",
    "  colors = \"red\", \"blue\"\n",
    "  for i, c, label in zip(sorted(set(labels.tolist())), colors, names):\n",
    "     plt.scatter(vecs_2d[labels == i, 0], vecs_2d[labels == i, 1], c=c,\n",
    "                label=label if ind2label is None else ind2label[label], alpha = 0.3, marker = \"s\" if i==0 else \"o\")\n",
    "     plt.legend(loc = \"upper right\")\n",
    "\n",
    "  plt.title(title)\n",
    "  plt.savefig(\"embeddings.{}.png\".format(title), dpi=600)\n",
    "  plt.show()\n",
    "  return vecs_2d"
   ]
  },
  {
   "cell_type": "markdown",
   "metadata": {},
   "source": [
    "## Load data"
   ]
  },
  {
   "cell_type": "code",
   "execution_count": 8,
   "metadata": {},
   "outputs": [],
   "source": [
    "\n",
    "path = \"/data/dkletz/Experiences/negation_intervention_and_test/training_classifiers/get_data/embeddings/embeddings0_10000\"\n",
    "path = \"/Users/david/Desktop/Doctorat/experiences/2022-23/Interventions/with_neg_eval/negation_intervention_and_test/training_classifiers/get_data/embeddings/embeddings0_10000\"\n",
    "\n",
    "embedds = torch.load(path)\n",
    "\n",
    "    "
   ]
  },
  {
   "cell_type": "code",
   "execution_count": 26,
   "metadata": {},
   "outputs": [],
   "source": [
    "list_pos = []\n",
    "list_neg = []\n",
    "\n",
    "\n",
    "\n",
    "for key in embedds.keys():\n",
    "    list_pos.extend(embedds[key][1])\n",
    "    list_neg.extend(embedds[key][0])\n",
    "\n",
    "array_pos = np.stack(list_pos[:10])\n",
    "array_neg = np.stack(list_neg)\n",
    "\n"
   ]
  },
  {
   "cell_type": "code",
   "execution_count": 27,
   "metadata": {},
   "outputs": [
    {
     "name": "stdout",
     "output_type": "stream",
     "text": [
      "10\n",
      "20\n"
     ]
    }
   ],
   "source": [
    "\n",
    "labs = [0 for k in range(len(array_neg))]\n",
    "print(len(labs))\n",
    "labs.extend([1 for k in range(len(array_pos))])\n",
    "print(len(labs))\n",
    "arrays = np.concatenate((array_neg, array_pos), axis=0)\n",
    "labs = np.array(labs)"
   ]
  },
  {
   "cell_type": "code",
   "execution_count": 28,
   "metadata": {},
   "outputs": [
    {
     "name": "stdout",
     "output_type": "stream",
     "text": [
      "[0 0 0 0 0 0 0 0 0 0 1 1 1 1 1 1 1 1 1 1]\n"
     ]
    }
   ],
   "source": [
    "print(labs)"
   ]
  },
  {
   "cell_type": "code",
   "execution_count": 29,
   "metadata": {},
   "outputs": [],
   "source": [
    "X_train, X_test, y_train, y_test = train_test_split(arrays, labs, test_size=0.33, random_state=42, shuffle=True)\n"
   ]
  },
  {
   "cell_type": "code",
   "execution_count": 30,
   "metadata": {},
   "outputs": [
    {
     "name": "stdout",
     "output_type": "stream",
     "text": [
      "(13, 1024)\n",
      "(13,)\n",
      "(7, 1024)\n",
      "(7,)\n"
     ]
    }
   ],
   "source": [
    "print(X_train.shape)\n",
    "print(y_train.shape)\n",
    "\n",
    "print(X_test.shape)\n",
    "print(y_test.shape)\n"
   ]
  },
  {
   "cell_type": "code",
   "execution_count": 31,
   "metadata": {},
   "outputs": [
    {
     "name": "stdout",
     "output_type": "stream",
     "text": [
      "[0 1 1 1 0 0 1 0 1 0 1 1 0]\n"
     ]
    }
   ],
   "source": [
    "print(y_train)"
   ]
  },
  {
   "cell_type": "code",
   "execution_count": 32,
   "metadata": {},
   "outputs": [
    {
     "name": "stdout",
     "output_type": "stream",
     "text": [
      "a\n",
      "[0 1 1 1 0 0 1 0 1 0 1 1 0]\n"
     ]
    },
    {
     "name": "stderr",
     "output_type": "stream",
     "text": [
      "/Users/david/miniconda3/envs/good_conda/lib/python3.9/site-packages/sklearn/manifold/_t_sne.py:795: FutureWarning: The default initialization in TSNE will change from 'random' to 'pca' in 1.2.\n",
      "  warnings.warn(\n",
      "/Users/david/miniconda3/envs/good_conda/lib/python3.9/site-packages/sklearn/manifold/_t_sne.py:805: FutureWarning: The default learning rate in TSNE will change from 200.0 to 'auto' in 1.2.\n",
      "  warnings.warn(\n"
     ]
    },
    {
     "data": {
      "image/png": "[encoded data removed]",
      "text/plain": [
       "<Figure size 600x500 with 1 Axes>"
      ]
     },
     "metadata": {},
     "output_type": "display_data"
    }
   ],
   "source": [
    "\n",
    "M =  2000\n",
    "ind2label =  {1: \"NOT present\", 0: \"NOT absent\"}\n",
    "print(\"a\")\n",
    "print(y_train[:M])\n",
    "tsne_before = tsne(X_train[:M], y_train[:M], title = \"Original (t=0)\", ind2label =ind2label )\n"
   ]
  },
  {
   "cell_type": "code",
   "execution_count": 39,
   "metadata": {},
   "outputs": [
    {
     "name": "stderr",
     "output_type": "stream",
     "text": [
      "iteration: 34, accuracy: 0.5714285714285714: 100%|█████████████████████████████████████████████████████████████████████████████████████████████████████████████████████████████████████████████████| 35/35 [00:14<00:00,  2.34it/s]\n"
     ]
    },
    {
     "name": "stdout",
     "output_type": "stream",
     "text": [
      "final_accur : [1.0, 0.8571428571428571, 0.42857142857142855, 0.5714285714285714, 0.5714285714285714, 0.5714285714285714, 0.5714285714285714, 0.5714285714285714, 0.5714285714285714, 0.42857142857142855, 0.5714285714285714, 0.5714285714285714, 0.7142857142857143, 0.5714285714285714, 0.5714285714285714, 0.5714285714285714, 0.5714285714285714, 0.5714285714285714, 0.5714285714285714, 0.5714285714285714, 0.5714285714285714, 0.5714285714285714, 0.5714285714285714, 0.5714285714285714, 0.5714285714285714, 0.5714285714285714, 0.5714285714285714, 0.5714285714285714, 0.5714285714285714, 0.5714285714285714, 0.5714285714285714, 0.5714285714285714, 0.5714285714285714, 0.5714285714285714, 0.5714285714285714]\n"
     ]
    },
    {
     "ename": "ValueError",
     "evalue": "not enough values to unpack (expected 4, got 3)",
     "output_type": "error",
     "traceback": [
      "\u001B[0;31m---------------------------------------------------------------------------\u001B[0m",
      "\u001B[0;31mValueError\u001B[0m                                Traceback (most recent call last)",
      "Cell \u001B[0;32mIn [39], line 18\u001B[0m\n\u001B[1;32m     15\u001B[0m is_autoregressive \u001B[38;5;241m=\u001B[39m \u001B[38;5;28;01mTrue\u001B[39;00m\n\u001B[1;32m     16\u001B[0m dropout_rate \u001B[38;5;241m=\u001B[39m \u001B[38;5;241m0\u001B[39m\n\u001B[0;32m---> 18\u001B[0m P, rowspace_projs, Ws, accuracies \u001B[38;5;241m=\u001B[39m debias\u001B[38;5;241m.\u001B[39mget_debiasing_projection(neg_clf, params, n, \u001B[38;5;241m1024\u001B[39m, is_autoregressive, min_acc,\n\u001B[1;32m     19\u001B[0m                                     X_train, y_train, X_test, y_test,\n\u001B[1;32m     20\u001B[0m                                        Y_train_main\u001B[38;5;241m=\u001B[39m\u001B[38;5;28;01mNone\u001B[39;00m, Y_dev_main\u001B[38;5;241m=\u001B[39m\u001B[38;5;28;01mNone\u001B[39;00m, \n\u001B[1;32m     21\u001B[0m                                         by_class \u001B[38;5;241m=\u001B[39m \u001B[38;5;28;01mFalse\u001B[39;00m, dropout_rate \u001B[38;5;241m=\u001B[39m dropout_rate, steps \u001B[38;5;241m=\u001B[39m \u001B[38;5;28;01mFalse\u001B[39;00m, model_name \u001B[38;5;241m=\u001B[39m model_name)\n",
      "\u001B[0;31mValueError\u001B[0m: not enough values to unpack (expected 4, got 3)"
     ]
    }
   ],
   "source": [
    "#gender_clf = LinearSVC\n",
    "#gender_clf = SGDClassifier\n",
    "#neg_clf = LogisticRegression\n",
    "#gender_clf = LinearDiscriminantAnalysis\n",
    "neg_clf = Perceptron\n",
    "\n",
    "#params_svc = {'fit_intercept': False, 'class_weight': None, \"dual\": False, 'random_state': 0}\n",
    "#params_sgd = {'fit_intercept': False, 'class_weight': None, 'max_iter': 1000, 'random_state': 0}\n",
    "#params = params_svc\n",
    "#params = {'loss': 'hinge', 'n_jobs': 16, 'penalty': 'l2', 'max_iter': 2500, 'random_state': 0}\n",
    "params = {\"penalty\" : \"l1\", 'max_iter': 500000, 'random_state': 0}\n",
    "#params = {}\n",
    "n = 35\n",
    "min_acc = 0\n",
    "is_autoregressive = True\n",
    "dropout_rate = 0\n",
    "\n",
    "P, rowspace_projs, Ws, accuracies = debias.get_debiasing_projection(neg_clf, params, n, 1024, is_autoregressive, min_acc,\n",
    "                                    X_train, y_train, X_test, y_test,\n",
    "                                       Y_train_main=None, Y_dev_main=None, \n",
    "                                        by_class = False, dropout_rate = dropout_rate, steps = False, model_name = model_name)"
   ]
  },
  {
   "cell_type": "code",
   "execution_count": null,
   "metadata": {},
   "outputs": [],
   "source": [
    "\n",
    "all_significantly_biased_cleaned = P.dot(X_train.T).T\n",
    "\n",
    "tsne_after = tsne(all_significantly_biased_cleaned[:M], y_train[:M], title = \"Projected (t={})\".format(n), ind2label =ind2label )\n"
   ]
  },
  {
   "cell_type": "code",
   "execution_count": null,
   "metadata": {},
   "outputs": [],
   "source": [
    "import matplotlib.pyplot as plt\n"
   ]
  },
  {
   "cell_type": "code",
   "execution_count": null,
   "metadata": {},
   "outputs": [],
   "source": [
    "\n",
    "\n",
    "\n",
    "plt.clf()\n",
    "\n",
    "\n",
    "plt.plot(accuracies, label='Roberta-large')\n",
    "plt.xlabel(\"Iteration\")\n",
    "plt.ylabel(\"Accuracy\")\n",
    "plt.legend()\n",
    "#plt.show()\n",
    "plt.savefig(\"accur_according_to_iterations.pdf\", dpi=400)"
   ]
  },
  {
   "cell_type": "code",
   "execution_count": null,
   "metadata": {},
   "outputs": [],
   "source": []
  }
 ],
 "metadata": {
  "kernelspec": {
   "display_name": "Python 3 (ipykernel)",
   "language": "python",
   "name": "python3"
  },
  "language_info": {
   "codemirror_mode": {
    "name": "ipython",
    "version": 3
   },
   "file_extension": ".py",
   "mimetype": "text/x-python",
   "name": "python",
   "nbconvert_exporter": "python",
   "pygments_lexer": "ipython3",
   "version": "3.9.13"
  }
 },
 "nbformat": 4,
 "nbformat_minor": 1
}
